{
 "cells": [
  {
   "cell_type": "markdown",
   "id": "b34bc701",
   "metadata": {},
   "source": [
    "## Rough work"
   ]
  },
  {
   "cell_type": "code",
   "execution_count": 2,
   "id": "942a63f6",
   "metadata": {},
   "outputs": [],
   "source": [
    "import pandas as pd\n",
    "import os"
   ]
  },
  {
   "cell_type": "code",
   "execution_count": 3,
   "id": "b0595d58",
   "metadata": {},
   "outputs": [],
   "source": [
    "LANGUAGE = \"yoruba\"  # Options: \"yoruba\", \"igbo\", \"hausa\", \"pidgin\"\n",
    "# EVAL_DIR = f\"eval/{LANGUAGE}\"\n",
    "# os.makedirs(EVAL_DIR, exist_ok=True)\n",
    "\n",
    "TRAIN_PATH = fr\"C:\\Users\\HP\\Downloads\\Casual-rep\\data\\yoruba_test.csv\"\n",
    "TEST_PATH = fr\"C:\\Users\\HP\\Downloads\\Casual-rep\\data\\yoruba_train.csv\"\n"
   ]
  },
  {
   "cell_type": "code",
   "execution_count": 4,
   "id": "1a0b2b34",
   "metadata": {},
   "outputs": [],
   "source": [
    "\n",
    "# Load and preprocess data\n",
    "df_train = pd.read_csv(TRAIN_PATH)\n",
    "df_test = pd.read_csv(TEST_PATH)"
   ]
  },
  {
   "cell_type": "code",
   "execution_count": 5,
   "id": "587e5a30",
   "metadata": {},
   "outputs": [
    {
     "data": {
      "text/html": [
       "<div>\n",
       "<style scoped>\n",
       "    .dataframe tbody tr th:only-of-type {\n",
       "        vertical-align: middle;\n",
       "    }\n",
       "\n",
       "    .dataframe tbody tr th {\n",
       "        vertical-align: top;\n",
       "    }\n",
       "\n",
       "    .dataframe thead th {\n",
       "        text-align: right;\n",
       "    }\n",
       "</style>\n",
       "<table border=\"1\" class=\"dataframe\">\n",
       "  <thead>\n",
       "    <tr style=\"text-align: right;\">\n",
       "      <th></th>\n",
       "      <th>tweet</th>\n",
       "      <th>label</th>\n",
       "    </tr>\n",
       "  </thead>\n",
       "  <tbody>\n",
       "    <tr>\n",
       "      <th>0</th>\n",
       "      <td>mo kí àrẹ wa alàgbà kú àbọ̀ o toò iṣẹ́ yá</td>\n",
       "      <td>1</td>\n",
       "    </tr>\n",
       "    <tr>\n",
       "      <th>1</th>\n",
       "      <td>tọ̀tún tòsì ni ẹyẹlé fi nkó ire wọlé</td>\n",
       "      <td>1</td>\n",
       "    </tr>\n",
       "    <tr>\n",
       "      <th>2</th>\n",
       "      <td>sá fún iṣẹ́ abẹ yẹra fún oògùn òyìnbó lo egbòg...</td>\n",
       "      <td>1</td>\n",
       "    </tr>\n",
       "    <tr>\n",
       "      <th>3</th>\n",
       "      <td>òwú kì í là kí inú ó bólóko ǹjẹ́ lónìí tí í ṣe...</td>\n",
       "      <td>1</td>\n",
       "    </tr>\n",
       "    <tr>\n",
       "      <th>4</th>\n",
       "      <td>beeni oo ko si iro mbe ọmọ ni afẹ́ ayé</td>\n",
       "      <td>1</td>\n",
       "    </tr>\n",
       "    <tr>\n",
       "      <th>...</th>\n",
       "      <td>...</td>\n",
       "      <td>...</td>\n",
       "    </tr>\n",
       "    <tr>\n",
       "      <th>2894</th>\n",
       "      <td>nígbàtí ìgbà àti àkókò bá súnkì di àgbákò níbo...</td>\n",
       "      <td>0</td>\n",
       "    </tr>\n",
       "    <tr>\n",
       "      <th>2895</th>\n",
       "      <td>lákòótán ẹni tí ò jẹ́ nǹkan kan tó ń ṣe bí ẹní...</td>\n",
       "      <td>0</td>\n",
       "    </tr>\n",
       "    <tr>\n",
       "      <th>2896</th>\n",
       "      <td>adiye ti n jefun araa won o awon omo aregbesol...</td>\n",
       "      <td>0</td>\n",
       "    </tr>\n",
       "    <tr>\n",
       "      <th>2897</th>\n",
       "      <td>ibẹ̀ làwọn kan alàìmore ènìyàn ńtà ọmọ tí èléd...</td>\n",
       "      <td>0</td>\n",
       "    </tr>\n",
       "    <tr>\n",
       "      <th>2898</th>\n",
       "      <td>ó ṣòro fún ọmọadúláwọ̀ láti ṣe ìrìnàjò jáde kú...</td>\n",
       "      <td>0</td>\n",
       "    </tr>\n",
       "  </tbody>\n",
       "</table>\n",
       "<p>2899 rows × 2 columns</p>\n",
       "</div>"
      ],
      "text/plain": [
       "                                                  tweet  label\n",
       "0             mo kí àrẹ wa alàgbà kú àbọ̀ o toò iṣẹ́ yá      1\n",
       "1                  tọ̀tún tòsì ni ẹyẹlé fi nkó ire wọlé      1\n",
       "2     sá fún iṣẹ́ abẹ yẹra fún oògùn òyìnbó lo egbòg...      1\n",
       "3     òwú kì í là kí inú ó bólóko ǹjẹ́ lónìí tí í ṣe...      1\n",
       "4                beeni oo ko si iro mbe ọmọ ni afẹ́ ayé      1\n",
       "...                                                 ...    ...\n",
       "2894  nígbàtí ìgbà àti àkókò bá súnkì di àgbákò níbo...      0\n",
       "2895  lákòótán ẹni tí ò jẹ́ nǹkan kan tó ń ṣe bí ẹní...      0\n",
       "2896  adiye ti n jefun araa won o awon omo aregbesol...      0\n",
       "2897  ibẹ̀ làwọn kan alàìmore ènìyàn ńtà ọmọ tí èléd...      0\n",
       "2898  ó ṣòro fún ọmọadúláwọ̀ láti ṣe ìrìnàjò jáde kú...      0\n",
       "\n",
       "[2899 rows x 2 columns]"
      ]
     },
     "execution_count": 5,
     "metadata": {},
     "output_type": "execute_result"
    }
   ],
   "source": [
    "df_train"
   ]
  },
  {
   "cell_type": "code",
   "execution_count": 6,
   "id": "79b13fc6",
   "metadata": {},
   "outputs": [
    {
     "data": {
      "text/html": [
       "<div>\n",
       "<style scoped>\n",
       "    .dataframe tbody tr th:only-of-type {\n",
       "        vertical-align: middle;\n",
       "    }\n",
       "\n",
       "    .dataframe tbody tr th {\n",
       "        vertical-align: top;\n",
       "    }\n",
       "\n",
       "    .dataframe thead th {\n",
       "        text-align: right;\n",
       "    }\n",
       "</style>\n",
       "<table border=\"1\" class=\"dataframe\">\n",
       "  <thead>\n",
       "    <tr style=\"text-align: right;\">\n",
       "      <th></th>\n",
       "      <th>tweet</th>\n",
       "      <th>label</th>\n",
       "    </tr>\n",
       "  </thead>\n",
       "  <tbody>\n",
       "    <tr>\n",
       "      <th>0</th>\n",
       "      <td>Ìwọ ikú òpònú abaradúdú wọ, o ò ṣe é 're o. O ...</td>\n",
       "      <td>0</td>\n",
       "    </tr>\n",
       "    <tr>\n",
       "      <th>1</th>\n",
       "      <td>Yorùbá nbú'yàn ṣá \"\"\"\"\"\"\"\"..àyà wanle bí òkú ì...</td>\n",
       "      <td>0</td>\n",
       "    </tr>\n",
       "    <tr>\n",
       "      <th>2</th>\n",
       "      <td>Òwe àgbà ní \"\"\"\"\"\"\"\"ọmọlọ́mọ là á rán níṣẹ́ à ...</td>\n",
       "      <td>0</td>\n",
       "    </tr>\n",
       "    <tr>\n",
       "      <th>3</th>\n",
       "      <td>RT @user: @user asa kasa ti awon eyan ko ni od...</td>\n",
       "      <td>0</td>\n",
       "    </tr>\n",
       "    <tr>\n",
       "      <th>4</th>\n",
       "      <td>RT @user: Mo ń rí àwọn èébú kọ̀ọ̀kan. Àti àwọn...</td>\n",
       "      <td>0</td>\n",
       "    </tr>\n",
       "    <tr>\n",
       "      <th>...</th>\n",
       "      <td>...</td>\n",
       "      <td>...</td>\n",
       "    </tr>\n",
       "    <tr>\n",
       "      <th>5409</th>\n",
       "      <td>RT @user: Oju adan o'nribi, oju awodi o'nri or...</td>\n",
       "      <td>1</td>\n",
       "    </tr>\n",
       "    <tr>\n",
       "      <th>5410</th>\n",
       "      <td>a tú dúpẹ́ lọ́wọ́ àwọn alátakò wá náà, a ó gbọ...</td>\n",
       "      <td>1</td>\n",
       "    </tr>\n",
       "    <tr>\n",
       "      <th>5411</th>\n",
       "      <td>Ẹní tó làná, tó lòní, kò leè lọ̀la; Ọlọ́run nì...</td>\n",
       "      <td>1</td>\n",
       "    </tr>\n",
       "    <tr>\n",
       "      <th>5412</th>\n",
       "      <td>My God is \"\"\"\"\"\"\"\"onise iyanu\"\"\"\"\"\"\"\" ( A Mira...</td>\n",
       "      <td>1</td>\n",
       "    </tr>\n",
       "    <tr>\n",
       "      <th>5413</th>\n",
       "      <td>RT @user: Ẹ wá ba mi re! #yorubafood #naijafoo...</td>\n",
       "      <td>1</td>\n",
       "    </tr>\n",
       "  </tbody>\n",
       "</table>\n",
       "<p>5414 rows × 2 columns</p>\n",
       "</div>"
      ],
      "text/plain": [
       "                                                  tweet  label\n",
       "0     Ìwọ ikú òpònú abaradúdú wọ, o ò ṣe é 're o. O ...      0\n",
       "1     Yorùbá nbú'yàn ṣá \"\"\"\"\"\"\"\"..àyà wanle bí òkú ì...      0\n",
       "2     Òwe àgbà ní \"\"\"\"\"\"\"\"ọmọlọ́mọ là á rán níṣẹ́ à ...      0\n",
       "3     RT @user: @user asa kasa ti awon eyan ko ni od...      0\n",
       "4     RT @user: Mo ń rí àwọn èébú kọ̀ọ̀kan. Àti àwọn...      0\n",
       "...                                                 ...    ...\n",
       "5409  RT @user: Oju adan o'nribi, oju awodi o'nri or...      1\n",
       "5410  a tú dúpẹ́ lọ́wọ́ àwọn alátakò wá náà, a ó gbọ...      1\n",
       "5411  Ẹní tó làná, tó lòní, kò leè lọ̀la; Ọlọ́run nì...      1\n",
       "5412  My God is \"\"\"\"\"\"\"\"onise iyanu\"\"\"\"\"\"\"\" ( A Mira...      1\n",
       "5413  RT @user: Ẹ wá ba mi re! #yorubafood #naijafoo...      1\n",
       "\n",
       "[5414 rows x 2 columns]"
      ]
     },
     "execution_count": 6,
     "metadata": {},
     "output_type": "execute_result"
    }
   ],
   "source": [
    "df_test"
   ]
  },
  {
   "cell_type": "code",
   "execution_count": null,
   "id": "5799a212",
   "metadata": {},
   "outputs": [
    {
     "name": "stdout",
     "output_type": "stream",
     "text": [
      "shape of train set: (5414, 2)\n",
      "shape of test set: (2899, 2)\n",
      "Train set size: 5414, Test set size: 2899\n",
      "Train set unique labels: [0 1]\n",
      "Test set unique labels: [1 0]\n",
      "null values in train set: tweet    0\n",
      "label    0\n",
      "dtype: int64\n",
      "null values in test set: tweet    0\n",
      "label    0\n",
      "dtype: int64\n",
      "shape of train set after dropping null values: (5414, 2)\n",
      "shape of test set after dropping null values: (2899, 2)\n"
     ]
    }
   ],
   "source": [
    "# # Keep only binary labels\n",
    "# df_train = df_train[df_train['label'].isin(['negative', 'positive'])].copy()\n",
    "# df_test = df_test[df_test['label'].isin(['negative', 'positive'])].copy()\n",
    "# label_map = {'negative': 0, 'positive': 1}\n",
    "# df_train['label'] = df_train['label'].map(label_map).astype(int)\n",
    "# df_test['label'] = df_test['label'].map(label_map).astype(int)\n",
    "# print(f'shape of train set: {df_train.shape}')\n",
    "# print(f'shape of test set: {df_test.shape}')\n",
    "# print(f\"Train set size: {len(df_train)}, Test set size: {len(df_test)}\")\n",
    "# print(f\"Train set unique labels: {df_train['label'].unique()}\")\n",
    "# print(f\"Test set unique labels: {df_test['label'].unique()}\")\n",
    "# print(f'null values in train set: {df_train.isnull().sum()}')\n",
    "# print(f'null values in test set: {df_test.isnull().sum()}')\n",
    "# df_train.dropna( inplace=True, axis=0)\n",
    "# df_test.dropna(inplace=True, axis=0)\n",
    "# print(f'shape of train set after dropping null values: {df_train.shape}')\n",
    "# print(f'shape of test set after dropping null values: {df_test.shape}')"
   ]
  },
  {
   "cell_type": "code",
   "execution_count": 16,
   "id": "b6003d1e",
   "metadata": {},
   "outputs": [],
   "source": [
    "df_test.to_csv(\"yoruba_test.csv\", index=False)\n",
    "df_train.to_csv(\"yoruba_train.csv\", index=False)"
   ]
  },
  {
   "cell_type": "code",
   "execution_count": 7,
   "id": "b347fa4b",
   "metadata": {},
   "outputs": [
    {
     "name": "stderr",
     "output_type": "stream",
     "text": [
      "C:\\Users\\HP\\AppData\\Local\\Temp\\ipykernel_18144\\4191704844.py:1: DeprecationWarning: DataFrameGroupBy.apply operated on the grouping columns. This behavior is deprecated, and in a future version of pandas the grouping columns will be excluded from the operation. Either pass `include_groups=False` to exclude the groupings or explicitly select the grouping columns after groupby to silence this warning.\n",
      "  df_train = df_train.groupby('label', group_keys=False).apply(lambda x: x.sample(n=500, random_state=42)).reset_index(drop=True)\n",
      "C:\\Users\\HP\\AppData\\Local\\Temp\\ipykernel_18144\\4191704844.py:2: DeprecationWarning: DataFrameGroupBy.apply operated on the grouping columns. This behavior is deprecated, and in a future version of pandas the grouping columns will be excluded from the operation. Either pass `include_groups=False` to exclude the groupings or explicitly select the grouping columns after groupby to silence this warning.\n",
      "  df_test = df_test.groupby('label', group_keys=False).apply(lambda x: x.sample(n=500, random_state=42)).reset_index(drop=True)\n"
     ]
    }
   ],
   "source": [
    "df_train = df_train.groupby('label', group_keys=False).apply(lambda x: x.sample(n=500, random_state=42)).reset_index(drop=True)\n",
    "df_test = df_test.groupby('label', group_keys=False).apply(lambda x: x.sample(n=500, random_state=42)).reset_index(drop=True)\n"
   ]
  },
  {
   "cell_type": "code",
   "execution_count": 8,
   "id": "79d90d72",
   "metadata": {},
   "outputs": [
    {
     "data": {
      "text/html": [
       "<div>\n",
       "<style scoped>\n",
       "    .dataframe tbody tr th:only-of-type {\n",
       "        vertical-align: middle;\n",
       "    }\n",
       "\n",
       "    .dataframe tbody tr th {\n",
       "        vertical-align: top;\n",
       "    }\n",
       "\n",
       "    .dataframe thead th {\n",
       "        text-align: right;\n",
       "    }\n",
       "</style>\n",
       "<table border=\"1\" class=\"dataframe\">\n",
       "  <thead>\n",
       "    <tr style=\"text-align: right;\">\n",
       "      <th></th>\n",
       "      <th>tweet</th>\n",
       "      <th>label</th>\n",
       "    </tr>\n",
       "  </thead>\n",
       "  <tbody>\n",
       "    <tr>\n",
       "      <th>0</th>\n",
       "      <td>kiní yìí ọ̀tá orun ní í ṣe</td>\n",
       "      <td>0</td>\n",
       "    </tr>\n",
       "    <tr>\n",
       "      <th>1</th>\n",
       "      <td>inú ilé ni jọ́ọ̀nù ti ń kiri obìi tirẹ̀ ó ga o...</td>\n",
       "      <td>0</td>\n",
       "    </tr>\n",
       "    <tr>\n",
       "      <th>2</th>\n",
       "      <td>oga o ewo ni orin eku lori oro oselu</td>\n",
       "      <td>0</td>\n",
       "    </tr>\n",
       "    <tr>\n",
       "      <th>3</th>\n",
       "      <td>honestly i had this experience yesterday one b...</td>\n",
       "      <td>0</td>\n",
       "    </tr>\n",
       "    <tr>\n",
       "      <th>4</th>\n",
       "      <td>ayé tó ṣe ilá tí ilá fi kó ló ṣe ikàn tí ó fi ...</td>\n",
       "      <td>0</td>\n",
       "    </tr>\n",
       "    <tr>\n",
       "      <th>...</th>\n",
       "      <td>...</td>\n",
       "      <td>...</td>\n",
       "    </tr>\n",
       "    <tr>\n",
       "      <th>995</th>\n",
       "      <td>ojúmọ́ tí ó mọ́ wa lónìí ojúmọ́ ire ni kó jẹ́ ...</td>\n",
       "      <td>1</td>\n",
       "    </tr>\n",
       "    <tr>\n",
       "      <th>996</th>\n",
       "      <td>oore lópé ìkà ò sunwọ̀n its kindness that pays...</td>\n",
       "      <td>1</td>\n",
       "    </tr>\n",
       "    <tr>\n",
       "      <th>997</th>\n",
       "      <td>mo mà gba ti bí ẹ ṣẹ nkọ yoòbá o ó dùn ún kà g...</td>\n",
       "      <td>1</td>\n",
       "    </tr>\n",
       "    <tr>\n",
       "      <th>998</th>\n",
       "      <td>ẹ kú ìrlẹ o ọmọ ẹ si kú ìgbádùn òpin ọṣẹ́ àti ...</td>\n",
       "      <td>1</td>\n",
       "    </tr>\n",
       "    <tr>\n",
       "      <th>999</th>\n",
       "      <td>àwọn ọlópàá tí wọ́n ndáàbò bo àwọn èrò ìrọwọ́r...</td>\n",
       "      <td>1</td>\n",
       "    </tr>\n",
       "  </tbody>\n",
       "</table>\n",
       "<p>1000 rows × 2 columns</p>\n",
       "</div>"
      ],
      "text/plain": [
       "                                                 tweet  label\n",
       "0                           kiní yìí ọ̀tá orun ní í ṣe      0\n",
       "1    inú ilé ni jọ́ọ̀nù ti ń kiri obìi tirẹ̀ ó ga o...      0\n",
       "2                 oga o ewo ni orin eku lori oro oselu      0\n",
       "3    honestly i had this experience yesterday one b...      0\n",
       "4    ayé tó ṣe ilá tí ilá fi kó ló ṣe ikàn tí ó fi ...      0\n",
       "..                                                 ...    ...\n",
       "995  ojúmọ́ tí ó mọ́ wa lónìí ojúmọ́ ire ni kó jẹ́ ...      1\n",
       "996  oore lópé ìkà ò sunwọ̀n its kindness that pays...      1\n",
       "997  mo mà gba ti bí ẹ ṣẹ nkọ yoòbá o ó dùn ún kà g...      1\n",
       "998  ẹ kú ìrlẹ o ọmọ ẹ si kú ìgbádùn òpin ọṣẹ́ àti ...      1\n",
       "999  àwọn ọlópàá tí wọ́n ndáàbò bo àwọn èrò ìrọwọ́r...      1\n",
       "\n",
       "[1000 rows x 2 columns]"
      ]
     },
     "execution_count": 8,
     "metadata": {},
     "output_type": "execute_result"
    }
   ],
   "source": [
    "df_train"
   ]
  },
  {
   "cell_type": "code",
   "execution_count": 11,
   "id": "0e5f2381",
   "metadata": {},
   "outputs": [
    {
     "data": {
      "text/plain": [
       "label\n",
       "0    500\n",
       "1    500\n",
       "Name: count, dtype: int64"
      ]
     },
     "execution_count": 11,
     "metadata": {},
     "output_type": "execute_result"
    }
   ],
   "source": [
    "df_train['label'].value_counts()"
   ]
  },
  {
   "cell_type": "code",
   "execution_count": 12,
   "id": "22856acd",
   "metadata": {},
   "outputs": [
    {
     "data": {
      "text/plain": [
       "label\n",
       "0    500\n",
       "1    500\n",
       "Name: count, dtype: int64"
      ]
     },
     "execution_count": 12,
     "metadata": {},
     "output_type": "execute_result"
    }
   ],
   "source": [
    "df_test['label'].value_counts()"
   ]
  },
  {
   "cell_type": "code",
   "execution_count": 13,
   "id": "dcadf7f8",
   "metadata": {},
   "outputs": [],
   "source": [
    "df_train.to_csv(\"yoruba_train.csv\", index=False)\n",
    "df_test.to_csv(\"yoruba_test.csv\", index=False)"
   ]
  }
 ],
 "metadata": {
  "kernelspec": {
   "display_name": "3MTT_RAG",
   "language": "python",
   "name": "python3"
  },
  "language_info": {
   "codemirror_mode": {
    "name": "ipython",
    "version": 3
   },
   "file_extension": ".py",
   "mimetype": "text/x-python",
   "name": "python",
   "nbconvert_exporter": "python",
   "pygments_lexer": "ipython3",
   "version": "3.10.15"
  }
 },
 "nbformat": 4,
 "nbformat_minor": 5
}
